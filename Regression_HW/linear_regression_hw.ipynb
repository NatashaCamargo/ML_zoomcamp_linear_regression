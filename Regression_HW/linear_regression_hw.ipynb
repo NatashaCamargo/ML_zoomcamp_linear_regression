{
 "cells": [
  {
   "cell_type": "markdown",
   "id": "f00191e1",
   "metadata": {},
   "source": [
    "# ML Zoomcamp Homework 2\n",
    "This HW goal is to work with the California Housing Prices from Kaggle to make predictions using Linear Regression."
   ]
  },
  {
   "cell_type": "code",
   "execution_count": 1,
   "id": "21a9ea71",
   "metadata": {},
   "outputs": [],
   "source": [
    "import pandas as pd\n",
    "import numpy as np\n",
    "\n",
    "import seaborn as sns\n",
    "from matplotlib import pyplot as plt\n",
    "%matplotlib inline\n",
    "\n",
    "import warnings\n",
    "warnings.filterwarnings('ignore')"
   ]
  },
  {
   "cell_type": "markdown",
   "id": "9239bc93",
   "metadata": {},
   "source": [
    "## EDA"
   ]
  },
  {
   "cell_type": "markdown",
   "id": "986dce15",
   "metadata": {},
   "source": [
    "### Loading the data"
   ]
  },
  {
   "cell_type": "code",
   "execution_count": 2,
   "id": "f34d8f3b",
   "metadata": {},
   "outputs": [],
   "source": [
    "df = pd.read_csv('housing.csv')"
   ]
  },
  {
   "cell_type": "code",
   "execution_count": 3,
   "id": "92af88d7",
   "metadata": {},
   "outputs": [
    {
     "data": {
      "text/plain": [
       "20640"
      ]
     },
     "execution_count": 3,
     "metadata": {},
     "output_type": "execute_result"
    }
   ],
   "source": [
    "len(df)"
   ]
  },
  {
   "cell_type": "code",
   "execution_count": 4,
   "id": "4f9d02a4",
   "metadata": {},
   "outputs": [
    {
     "data": {
      "text/html": [
       "<div>\n",
       "<style scoped>\n",
       "    .dataframe tbody tr th:only-of-type {\n",
       "        vertical-align: middle;\n",
       "    }\n",
       "\n",
       "    .dataframe tbody tr th {\n",
       "        vertical-align: top;\n",
       "    }\n",
       "\n",
       "    .dataframe thead th {\n",
       "        text-align: right;\n",
       "    }\n",
       "</style>\n",
       "<table border=\"1\" class=\"dataframe\">\n",
       "  <thead>\n",
       "    <tr style=\"text-align: right;\">\n",
       "      <th></th>\n",
       "      <th>longitude</th>\n",
       "      <th>latitude</th>\n",
       "      <th>housing_median_age</th>\n",
       "      <th>total_rooms</th>\n",
       "      <th>total_bedrooms</th>\n",
       "      <th>population</th>\n",
       "      <th>households</th>\n",
       "      <th>median_income</th>\n",
       "      <th>median_house_value</th>\n",
       "      <th>ocean_proximity</th>\n",
       "    </tr>\n",
       "  </thead>\n",
       "  <tbody>\n",
       "    <tr>\n",
       "      <th>0</th>\n",
       "      <td>-122.23</td>\n",
       "      <td>37.88</td>\n",
       "      <td>41.0</td>\n",
       "      <td>880.0</td>\n",
       "      <td>129.0</td>\n",
       "      <td>322.0</td>\n",
       "      <td>126.0</td>\n",
       "      <td>8.3252</td>\n",
       "      <td>452600.0</td>\n",
       "      <td>NEAR BAY</td>\n",
       "    </tr>\n",
       "    <tr>\n",
       "      <th>1</th>\n",
       "      <td>-122.22</td>\n",
       "      <td>37.86</td>\n",
       "      <td>21.0</td>\n",
       "      <td>7099.0</td>\n",
       "      <td>1106.0</td>\n",
       "      <td>2401.0</td>\n",
       "      <td>1138.0</td>\n",
       "      <td>8.3014</td>\n",
       "      <td>358500.0</td>\n",
       "      <td>NEAR BAY</td>\n",
       "    </tr>\n",
       "    <tr>\n",
       "      <th>2</th>\n",
       "      <td>-122.24</td>\n",
       "      <td>37.85</td>\n",
       "      <td>52.0</td>\n",
       "      <td>1467.0</td>\n",
       "      <td>190.0</td>\n",
       "      <td>496.0</td>\n",
       "      <td>177.0</td>\n",
       "      <td>7.2574</td>\n",
       "      <td>352100.0</td>\n",
       "      <td>NEAR BAY</td>\n",
       "    </tr>\n",
       "    <tr>\n",
       "      <th>3</th>\n",
       "      <td>-122.25</td>\n",
       "      <td>37.85</td>\n",
       "      <td>52.0</td>\n",
       "      <td>1274.0</td>\n",
       "      <td>235.0</td>\n",
       "      <td>558.0</td>\n",
       "      <td>219.0</td>\n",
       "      <td>5.6431</td>\n",
       "      <td>341300.0</td>\n",
       "      <td>NEAR BAY</td>\n",
       "    </tr>\n",
       "    <tr>\n",
       "      <th>4</th>\n",
       "      <td>-122.25</td>\n",
       "      <td>37.85</td>\n",
       "      <td>52.0</td>\n",
       "      <td>1627.0</td>\n",
       "      <td>280.0</td>\n",
       "      <td>565.0</td>\n",
       "      <td>259.0</td>\n",
       "      <td>3.8462</td>\n",
       "      <td>342200.0</td>\n",
       "      <td>NEAR BAY</td>\n",
       "    </tr>\n",
       "  </tbody>\n",
       "</table>\n",
       "</div>"
      ],
      "text/plain": [
       "   longitude  latitude  housing_median_age  total_rooms  total_bedrooms  \\\n",
       "0    -122.23     37.88                41.0        880.0           129.0   \n",
       "1    -122.22     37.86                21.0       7099.0          1106.0   \n",
       "2    -122.24     37.85                52.0       1467.0           190.0   \n",
       "3    -122.25     37.85                52.0       1274.0           235.0   \n",
       "4    -122.25     37.85                52.0       1627.0           280.0   \n",
       "\n",
       "   population  households  median_income  median_house_value ocean_proximity  \n",
       "0       322.0       126.0         8.3252            452600.0        NEAR BAY  \n",
       "1      2401.0      1138.0         8.3014            358500.0        NEAR BAY  \n",
       "2       496.0       177.0         7.2574            352100.0        NEAR BAY  \n",
       "3       558.0       219.0         5.6431            341300.0        NEAR BAY  \n",
       "4       565.0       259.0         3.8462            342200.0        NEAR BAY  "
      ]
     },
     "execution_count": 4,
     "metadata": {},
     "output_type": "execute_result"
    }
   ],
   "source": [
    "df.head()"
   ]
  },
  {
   "cell_type": "code",
   "execution_count": 5,
   "id": "301e5707",
   "metadata": {},
   "outputs": [
    {
     "data": {
      "text/plain": [
       "Index(['longitude', 'latitude', 'housing_median_age', 'total_rooms',\n",
       "       'total_bedrooms', 'population', 'households', 'median_income',\n",
       "       'median_house_value', 'ocean_proximity'],\n",
       "      dtype='object')"
      ]
     },
     "execution_count": 5,
     "metadata": {},
     "output_type": "execute_result"
    }
   ],
   "source": [
    "df.columns"
   ]
  },
  {
   "cell_type": "markdown",
   "id": "0bd25b62",
   "metadata": {},
   "source": [
    "### Checking median house feature"
   ]
  },
  {
   "cell_type": "code",
   "execution_count": 6,
   "id": "cdffd89f",
   "metadata": {},
   "outputs": [
    {
     "data": {
      "image/png": "[encoded data removed]",
      "text/plain": [
       "<Figure size 800x600 with 1 Axes>"
      ]
     },
     "metadata": {},
     "output_type": "display_data"
    }
   ],
   "source": [
    "# Histogram\n",
    "plt.figure(figsize=(8, 6))\n",
    "sns.histplot(df['median_house_value'], bins=50, kde=False)\n",
    "plt.title('Median house value')\n",
    "plt.xlabel('median_house_value')\n",
    "plt.ylabel('Frequency')\n",
    "\n",
    "plt.show();"
   ]
  },
  {
   "cell_type": "markdown",
   "id": "6a30dd0a",
   "metadata": {},
   "source": [
    "From the histogram we can see we are dealing with right skewed data. It does have a tail, not as long as we saw in the car price dataset but it has, it is not a normal distribution."
   ]
  },
  {
   "cell_type": "code",
   "execution_count": 7,
   "id": "91b4af1a",
   "metadata": {},
   "outputs": [
    {
     "data": {
      "image/png": "[encoded data removed]",
      "text/plain": [
       "<Figure size 800x600 with 1 Axes>"
      ]
     },
     "metadata": {},
     "output_type": "display_data"
    }
   ],
   "source": [
    "# KDE-Kernel Density Estimate\n",
    "plt.figure(figsize=(8,6))\n",
    "sns.kdeplot(df['median_house_value'], fill=True)\n",
    "plt.title('median_house_value density plot')\n",
    "plt.xlabel('median_house_value')\n",
    "plt.ylabel('Density')\n",
    "plt.show()"
   ]
  },
  {
   "cell_type": "markdown",
   "id": "c201bc2d",
   "metadata": {},
   "source": [
    "Here we can see that we have a peak around 200K (most common range is arounf here) and again a long tail to the right (this is very usual when we're talking about financial data).  \n",
    "The long tail tells us that we have houses with much higher values (these are less frequent but I think we have a good amount around $ 500K."
   ]
  },
  {
   "cell_type": "code",
   "execution_count": 8,
   "id": "7a15238c",
   "metadata": {},
   "outputs": [],
   "source": [
    "df_filtered = df.loc[(df['ocean_proximity'] == '<1H OCEAN') | (df['ocean_proximity'] ==  'INLAND')]"
   ]
  },
  {
   "cell_type": "code",
   "execution_count": 9,
   "id": "a29d369f",
   "metadata": {},
   "outputs": [],
   "source": [
    "columns_to_keep = [\n",
    "    'latitude', \n",
    "    'longitude', \n",
    "    'housing_median_age', \n",
    "    'total_rooms', \n",
    "    'total_bedrooms', \n",
    "    'population', \n",
    "    'households', \n",
    "    'median_income', \n",
    "    'median_house_value'\n",
    "]\n",
    "\n",
    "df_subset = df_filtered[columns_to_keep]"
   ]
  },
  {
   "cell_type": "code",
   "execution_count": 10,
   "id": "48c2e971",
   "metadata": {},
   "outputs": [
    {
     "data": {
      "text/html": [
       "<div>\n",
       "<style scoped>\n",
       "    .dataframe tbody tr th:only-of-type {\n",
       "        vertical-align: middle;\n",
       "    }\n",
       "\n",
       "    .dataframe tbody tr th {\n",
       "        vertical-align: top;\n",
       "    }\n",
       "\n",
       "    .dataframe thead th {\n",
       "        text-align: right;\n",
       "    }\n",
       "</style>\n",
       "<table border=\"1\" class=\"dataframe\">\n",
       "  <thead>\n",
       "    <tr style=\"text-align: right;\">\n",
       "      <th></th>\n",
       "      <th>latitude</th>\n",
       "      <th>longitude</th>\n",
       "      <th>housing_median_age</th>\n",
       "      <th>total_rooms</th>\n",
       "      <th>total_bedrooms</th>\n",
       "      <th>population</th>\n",
       "      <th>households</th>\n",
       "      <th>median_income</th>\n",
       "      <th>median_house_value</th>\n",
       "    </tr>\n",
       "  </thead>\n",
       "  <tbody>\n",
       "    <tr>\n",
       "      <th>701</th>\n",
       "      <td>37.64</td>\n",
       "      <td>-121.97</td>\n",
       "      <td>32.0</td>\n",
       "      <td>1283.0</td>\n",
       "      <td>194.0</td>\n",
       "      <td>485.0</td>\n",
       "      <td>171.0</td>\n",
       "      <td>6.0574</td>\n",
       "      <td>431000.0</td>\n",
       "    </tr>\n",
       "    <tr>\n",
       "      <th>830</th>\n",
       "      <td>37.61</td>\n",
       "      <td>-121.99</td>\n",
       "      <td>9.0</td>\n",
       "      <td>3666.0</td>\n",
       "      <td>711.0</td>\n",
       "      <td>2341.0</td>\n",
       "      <td>703.0</td>\n",
       "      <td>4.6458</td>\n",
       "      <td>217000.0</td>\n",
       "    </tr>\n",
       "    <tr>\n",
       "      <th>859</th>\n",
       "      <td>37.57</td>\n",
       "      <td>-121.97</td>\n",
       "      <td>21.0</td>\n",
       "      <td>4342.0</td>\n",
       "      <td>783.0</td>\n",
       "      <td>2172.0</td>\n",
       "      <td>789.0</td>\n",
       "      <td>4.6146</td>\n",
       "      <td>247600.0</td>\n",
       "    </tr>\n",
       "    <tr>\n",
       "      <th>860</th>\n",
       "      <td>37.58</td>\n",
       "      <td>-121.96</td>\n",
       "      <td>15.0</td>\n",
       "      <td>3575.0</td>\n",
       "      <td>597.0</td>\n",
       "      <td>1777.0</td>\n",
       "      <td>559.0</td>\n",
       "      <td>5.7192</td>\n",
       "      <td>283500.0</td>\n",
       "    </tr>\n",
       "    <tr>\n",
       "      <th>861</th>\n",
       "      <td>37.58</td>\n",
       "      <td>-121.98</td>\n",
       "      <td>20.0</td>\n",
       "      <td>4126.0</td>\n",
       "      <td>1031.0</td>\n",
       "      <td>2079.0</td>\n",
       "      <td>975.0</td>\n",
       "      <td>3.6832</td>\n",
       "      <td>216900.0</td>\n",
       "    </tr>\n",
       "  </tbody>\n",
       "</table>\n",
       "</div>"
      ],
      "text/plain": [
       "     latitude  longitude  housing_median_age  total_rooms  total_bedrooms  \\\n",
       "701     37.64    -121.97                32.0       1283.0           194.0   \n",
       "830     37.61    -121.99                 9.0       3666.0           711.0   \n",
       "859     37.57    -121.97                21.0       4342.0           783.0   \n",
       "860     37.58    -121.96                15.0       3575.0           597.0   \n",
       "861     37.58    -121.98                20.0       4126.0          1031.0   \n",
       "\n",
       "     population  households  median_income  median_house_value  \n",
       "701       485.0       171.0         6.0574            431000.0  \n",
       "830      2341.0       703.0         4.6458            217000.0  \n",
       "859      2172.0       789.0         4.6146            247600.0  \n",
       "860      1777.0       559.0         5.7192            283500.0  \n",
       "861      2079.0       975.0         3.6832            216900.0  "
      ]
     },
     "execution_count": 10,
     "metadata": {},
     "output_type": "execute_result"
    }
   ],
   "source": [
    "df_subset.head()"
   ]
  },
  {
   "cell_type": "markdown",
   "id": "cc1c3fe9",
   "metadata": {},
   "source": [
    "## Question 1"
   ]
  },
  {
   "cell_type": "code",
   "execution_count": 11,
   "id": "4ed5430c",
   "metadata": {},
   "outputs": [
    {
     "data": {
      "text/plain": [
       "latitude                0\n",
       "longitude               0\n",
       "housing_median_age      0\n",
       "total_rooms             0\n",
       "total_bedrooms        157\n",
       "population              0\n",
       "households              0\n",
       "median_income           0\n",
       "median_house_value      0\n",
       "dtype: int64"
      ]
     },
     "execution_count": 11,
     "metadata": {},
     "output_type": "execute_result"
    }
   ],
   "source": [
    "df_subset.isnull().sum()"
   ]
  },
  {
   "cell_type": "markdown",
   "id": "17069949",
   "metadata": {},
   "source": [
    "**Answer:** The feature with missing Values is total_bedrooms with 157 missing values"
   ]
  },
  {
   "cell_type": "markdown",
   "id": "85f09026",
   "metadata": {},
   "source": [
    "## Question 2"
   ]
  },
  {
   "cell_type": "code",
   "execution_count": 12,
   "id": "24245e23",
   "metadata": {
    "scrolled": true
   },
   "outputs": [
    {
     "data": {
      "text/plain": [
       "1195.0"
      ]
     },
     "execution_count": 12,
     "metadata": {},
     "output_type": "execute_result"
    }
   ],
   "source": [
    "population_median = df_subset['population'].median()\n",
    "population_median"
   ]
  },
  {
   "cell_type": "markdown",
   "id": "d285d2a1",
   "metadata": {},
   "source": [
    "**Answer:** 1195"
   ]
  },
  {
   "cell_type": "markdown",
   "id": "5e68a5d4",
   "metadata": {},
   "source": [
    "## Prepare and Split the dataset"
   ]
  },
  {
   "cell_type": "markdown",
   "id": "af4e7247",
   "metadata": {},
   "source": [
    "- Shuffle the dataset (the filtered one you created above), use seed 42.\n",
    "- Split your data in train/val/test sets, with 60%/20%/20% distribution."
   ]
  },
  {
   "cell_type": "code",
   "execution_count": 13,
   "id": "2ae45760",
   "metadata": {},
   "outputs": [],
   "source": [
    "# computing the sample size\n",
    "n = len(df_subset)\n",
    "n_val = int(n * 0.2)\n",
    "n_test = int(n * 0.2)\n",
    "n_train = n - n_val - n_test"
   ]
  },
  {
   "cell_type": "code",
   "execution_count": 14,
   "id": "673bb5af",
   "metadata": {},
   "outputs": [],
   "source": [
    "# create the index array\n",
    "idx = np.arange(n)\n",
    "\n",
    "# set the random seed\n",
    "np.random.seed(42)\n",
    "\n",
    "# shuffle\n",
    "np.random.shuffle(idx)"
   ]
  },
  {
   "cell_type": "code",
   "execution_count": 15,
   "id": "17694705",
   "metadata": {},
   "outputs": [],
   "source": [
    "df_train = df_subset.iloc[idx[:n_train]]\n",
    "df_val = df_subset.iloc[idx[n_train:n_train+n_val]]\n",
    "df_test = df_subset.iloc[idx[n_train+n_val:]]"
   ]
  },
  {
   "cell_type": "code",
   "execution_count": 16,
   "id": "19476c09",
   "metadata": {},
   "outputs": [],
   "source": [
    "df_train = df_train.copy()\n",
    "df_val = df_val.copy()\n",
    "df_test = df_test.copy()\n",
    "\n",
    "\n",
    "df_train['median_house_value'] = np.log1p(df_train['median_house_value'])\n",
    "df_val['median_house_value'] = np.log1p(df_val['median_house_value'])\n",
    "df_test['median_house_value'] = np.log1p(df_test['median_house_value'])"
   ]
  },
  {
   "cell_type": "markdown",
   "id": "0590c25b",
   "metadata": {},
   "source": [
    "## Question 3\n",
    "- We need to deal with missing values for the column from Q1.\n",
    "- We have two options: fill it with 0 or with the mean of this - variable.\n",
    "- Try both options. For each, train a linear regression model without - regularization using the code from the lessons.\n",
    "- For computing the mean, use the training only!\n",
    "- Use the validation dataset to evaluate the models and compare the - RMSE of each option.\n",
    "- Round the RMSE scores to 2 decimal digits using round(score, 2)\n",
    "- Which option gives better RMSE?"
   ]
  },
  {
   "cell_type": "code",
   "execution_count": 19,
   "id": "2f456e42",
   "metadata": {},
   "outputs": [],
   "source": [
    "# LR train code\n",
    "def train_linear_regression(X, y):\n",
    "    ones = np.ones(X.shape[0])\n",
    "    X = np.column_stack([ones, X])\n",
    "\n",
    "    XTX = X.T.dot(X)\n",
    "    XTX_inv = np.linalg.inv(XTX)\n",
    "    w_full = XTX_inv.dot(X.T).dot(y)\n",
    "    \n",
    "    return w_full[0], w_full[1:]"
   ]
  },
  {
   "cell_type": "code",
   "execution_count": 20,
   "id": "be831be0",
   "metadata": {},
   "outputs": [],
   "source": [
    "# RMSE code\n",
    "def rmse(y, y_pred):\n",
    "    error = (y - y_pred) ** 2\n",
    "    mse = error.mean()\n",
    "    return np.sqrt(mse)"
   ]
  },
  {
   "cell_type": "code",
   "execution_count": 37,
   "id": "e5ede2e3",
   "metadata": {},
   "outputs": [],
   "source": [
    "# Data prep to fill with zero\n",
    "def prepare_X_zeros(df):\n",
    "    df_num = df.drop(columns=['median_house_value']).copy()  # Exclude the target variable\n",
    "    df_num = df_num.fillna(0)\n",
    "    X = df_num.values\n",
    "    return X"
   ]
  },
  {
   "cell_type": "code",
   "execution_count": 38,
   "id": "ec8482f0",
   "metadata": {},
   "outputs": [
    {
     "data": {
      "text/plain": [
       "0.34084790341805027"
      ]
     },
     "execution_count": 38,
     "metadata": {},
     "output_type": "execute_result"
    }
   ],
   "source": [
    "X_train = prepare_X_zeros(df_train)\n",
    "y_train = df_train['median_house_value'].values\n",
    "\n",
    "w0, w = train_linear_regression(X_train, y_train)\n",
    "\n",
    "X_val = prepare_X_zeros(df_val)\n",
    "y_val = df_val['median_house_value'].values\n",
    "y_pred = w0 + X_val.dot(w)\n",
    "score_zero = rmse(y_val, y_pred)\n",
    "\n",
    "score_zero"
   ]
  },
  {
   "cell_type": "code",
   "execution_count": 41,
   "id": "7f73dc84",
   "metadata": {},
   "outputs": [
    {
     "data": {
      "text/plain": [
       "0.34056998014435774"
      ]
     },
     "execution_count": 41,
     "metadata": {},
     "output_type": "execute_result"
    }
   ],
   "source": [
    "mean_value = df_train['total_bedrooms'].mean()\n",
    "\n",
    "def prepare_X_mean(df):\n",
    "    df_num = df.drop(columns=['median_house_value']).copy()  # Exclude the target variable\n",
    "    df_num = df_num.copy()\n",
    "    df_num['total_bedrooms'] = df_num['total_bedrooms'].fillna(mean_value)\n",
    "    X = df_num.values\n",
    "    return X\n",
    "\n",
    "X_train_mean = prepare_X_mean(df_train)\n",
    "w0_mean, w_mean = train_linear_regression(X_train_mean, y_train)\n",
    "\n",
    "X_val_mean = prepare_X_mean(df_val)\n",
    "y_pred_mean = w0_mean + X_val_mean.dot(w_mean)\n",
    "score_mean = rmse(y_val, y_pred_mean)\n",
    "\n",
    "score_mean"
   ]
  },
  {
   "cell_type": "markdown",
   "id": "342fce8e",
   "metadata": {},
   "source": [
    "**Answer:** From the results above we can see that both approaches are equally good."
   ]
  },
  {
   "cell_type": "markdown",
   "id": "f27f823d",
   "metadata": {},
   "source": [
    "## Question 4"
   ]
  },
  {
   "cell_type": "code",
   "execution_count": 42,
   "id": "c5427305",
   "metadata": {},
   "outputs": [],
   "source": [
    "def train_linear_regression_reg(X, y, r=0.001):\n",
    "    ones = np.ones(X.shape[0])\n",
    "    X = np.column_stack([ones, X])\n",
    "    \n",
    "    # adding a small no to the diagonal\n",
    "    XTX = X.T.dot(X)\n",
    "    XTX = XTX + r * np.eye(XTX.shape[0])\n",
    "\n",
    "    XTX_inv = np.linalg.inv(XTX)\n",
    "    w_full = XTX_inv.dot(X.T).dot(y)\n",
    "    \n",
    "    return w_full[0], w_full[1:]"
   ]
  },
  {
   "cell_type": "code",
   "execution_count": 47,
   "id": "6210a3cd",
   "metadata": {},
   "outputs": [
    {
     "name": "stdout",
     "output_type": "stream",
     "text": [
      "0 -9.763249477781574 0.34084790341805027 0.34\n",
      "1e-06 -9.763228831278607 0.3408479061781417 0.34\n",
      "0.0001 -9.761185235807432 0.3408481800532395 0.34\n",
      "0.001 -9.74264624932001 0.340850692188389 0.34\n",
      "0.01 -9.561056193283042 0.34087793005172373 0.34\n",
      "0.1 -8.058889769581874 0.34128620419969663 0.34\n",
      "1 -3.1331542785255584 0.3448958327652831 0.34\n",
      "5 -0.8410867974326546 0.34773980704852353 0.35\n",
      "10 -0.43811723161578703 0.34831498335175287 0.35\n"
     ]
    }
   ],
   "source": [
    "for r in [0, 0.000001, 0.0001, 0.001, 0.01, 0.1, 1, 5, 10]:\n",
    "    X_train = prepare_X_zeros(df_train)\n",
    "    y_train = df_train['median_house_value'].values\n",
    "\n",
    "    w0, w = train_linear_regression_reg(X_train, y_train, r=r)\n",
    "    \n",
    "    X_val = prepare_X_zeros(df_val)\n",
    "    y_pred = w0 + X_val.dot(w)\n",
    "    score = rmse(y_val, y_pred)\n",
    "    score_rounded = rmse(y_val, y_pred).round(2)\n",
    "    \n",
    "    print(r, w0, score, score_rounded)"
   ]
  },
  {
   "cell_type": "markdown",
   "id": "6d436ef4",
   "metadata": {},
   "source": [
    "**Answer:** As the results are very similar when we round we have 0.34 for the marjority of the results. So, let's choose the minor r value that gives us the minor RMSe which is **r=0**"
   ]
  },
  {
   "cell_type": "markdown",
   "id": "58374f4e",
   "metadata": {},
   "source": [
    "## Question 5"
   ]
  },
  {
   "cell_type": "code",
   "execution_count": 49,
   "id": "f6783c90",
   "metadata": {},
   "outputs": [
    {
     "data": {
      "text/plain": [
       "0.005"
      ]
     },
     "execution_count": 49,
     "metadata": {},
     "output_type": "execute_result"
    }
   ],
   "source": [
    "# Initialize the list to store the RMSE scores for different seeds\n",
    "rmse_scores = []\n",
    "\n",
    "# loop over the different seed values\n",
    "for seed in [0, 1, 2, 3, 4, 5, 6, 7, 8, 9]:\n",
    "    # Create the index array and shuffle it using the current seed\n",
    "    idx = np.arange(n)\n",
    "    np.random.seed(seed)\n",
    "    np.random.shuffle(idx)\n",
    "    \n",
    "    # Splitting the dataframe into train, validation, and test sets using the shuffled indices\n",
    "    df_train = df_subset.iloc[idx[:n_train]].copy()\n",
    "    df_val = df_subset.iloc[idx[n_train:n_train+n_val]].copy()\n",
    "    df_test = df_subset.iloc[idx[n_train+n_val:]].copy()\n",
    "    \n",
    "    # Apply logarithmic transformation to 'median_house_value'\n",
    "    df_train['median_house_value'] = np.log1p(df_train['median_house_value'])\n",
    "    df_val['median_house_value'] = np.log1p(df_val['median_house_value'])\n",
    "    df_test['median_house_value'] = np.log1p(df_test['median_house_value'])\n",
    "    \n",
    "    # Prepare the training data with zeros filling, train the linear regression model, make predictions and calculate RMSE\n",
    "    X_train = prepare_X_zeros_fixed(df_train)\n",
    "    y_train = df_train['median_house_value'].values\n",
    "    \n",
    "    w0, w = train_linear_regression(X_train, y_train)\n",
    "    \n",
    "    X_val = prepare_X_zeros_fixed(df_val)\n",
    "    y_val = df_val['median_house_value'].values\n",
    "    \n",
    "    y_pred = w0 + X_val.dot(w)\n",
    "    score = rmse(y_val, y_pred)\n",
    "    \n",
    "    # Append the current RMSE score to the list of corrected scores\n",
    "    rmse_scores.append(score)\n",
    "    \n",
    "# Calculate the standard deviation of the corrected RMSE scores and round it to 3 decimal digits\n",
    "std_rmse_corrected = round(np.std(rmse_scores), 3)\n",
    "std_rmse_corrected"
   ]
  },
  {
   "cell_type": "markdown",
   "id": "4981d5d0",
   "metadata": {},
   "source": [
    "**Answer:** 0.005"
   ]
  },
  {
   "cell_type": "code",
   "execution_count": 50,
   "id": "95fc852f",
   "metadata": {},
   "outputs": [
    {
     "data": {
      "text/plain": [
       "0.33"
      ]
     },
     "execution_count": 50,
     "metadata": {},
     "output_type": "execute_result"
    }
   ],
   "source": [
    "# Set the seed value\n",
    "seed = 9\n",
    "\n",
    "# Create the index array and shuffle it using the seed\n",
    "idx = np.arange(n)\n",
    "np.random.seed(seed)\n",
    "np.random.shuffle(idx)\n",
    "\n",
    "# Splitting the dataframe into combined train and validation, and test sets using the shuffled indices\n",
    "df_train_val = df_subset.iloc[idx[:n_train+n_val]].copy()\n",
    "df_test = df_subset.iloc[idx[n_train+n_val:]].copy()\n",
    "\n",
    "# Apply logarithmic transformation to 'median_house_value'\n",
    "df_train_val['median_house_value'] = np.log1p(df_train_val['median_house_value'])\n",
    "df_test['median_house_value'] = np.log1p(df_test['median_house_value'])\n",
    "\n",
    "# Prepare the combined training and validation data with zeros filling\n",
    "X_train_val = prepare_X_zeros_fixed(df_train_val)\n",
    "y_train_val = df_train_val['median_house_value'].values\n",
    "\n",
    "# Train the regularized linear regression model with r=0.001 on the combined training and validation data\n",
    "w0_tv, w_tv = train_linear_regression_reg(X_train_val, y_train_val, r=0.001)\n",
    "\n",
    "# Prepare the test data with zeros filling\n",
    "X_test = prepare_X_zeros_fixed(df_test)\n",
    "y_test = df_test['median_house_value'].values\n",
    "\n",
    "# Make predictions on the test data and calculate RMSE\n",
    "y_pred_test = w0_tv + X_test.dot(w_tv)\n",
    "score_test = rmse(y_test, y_pred_test)\n",
    "score_test_rounded = round(score_test, 2)\n",
    "score_test_rounded\n"
   ]
  },
  {
   "cell_type": "markdown",
   "id": "60b27838",
   "metadata": {},
   "source": [
    "**Answer:** 0.33"
   ]
  },
  {
   "cell_type": "code",
   "execution_count": null,
   "id": "0fbc4ffe",
   "metadata": {},
   "outputs": [],
   "source": []
  }
 ],
 "metadata": {
  "kernelspec": {
   "display_name": "mlzoomcamp",
   "language": "python",
   "name": "mlzoomcamp"
  },
  "language_info": {
   "codemirror_mode": {
    "name": "ipython",
    "version": 3
   },
   "file_extension": ".py",
   "mimetype": "text/x-python",
   "name": "python",
   "nbconvert_exporter": "python",
   "pygments_lexer": "ipython3",
   "version": "3.11.3"
  }
 },
 "nbformat": 4,
 "nbformat_minor": 5
}
